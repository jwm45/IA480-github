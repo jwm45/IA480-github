{
 "cells": [
  {
   "cell_type": "markdown",
   "id": "119a978c-794a-42a7-8926-cda6871c8613",
   "metadata": {},
   "source": [
    "# Prompt Engineering: Use OpenAI to Analyze Twitter Data \n",
    "This is a simple tutorial teaching prompt engineering basics and analyzing Twitter data with OpenAI large language models (LLM).\n",
    "Please purchase an [OpenAI API](https://openai.com/index/openai-api/) and store it in a safe place. This tutorial use [AWS Secretes Manager](https://aws.amazon.com/secrets-manager/) to store the API keys.  "
   ]
  },
  {
   "cell_type": "markdown",
   "id": "15700978-787e-407e-a940-c977a71b3044",
   "metadata": {},
   "source": [
    "## Large Language Model Basics\n",
    "LLM repeatable predicts the next world using supervised learning. To predict the following sentence: \n",
    "\n",
    "`Learning data science in the cloud with AI`\n",
    "\n",
    "A model needs to learn to predict the following steps:\n",
    "\n",
    "|Input|Output|\n",
    "|:---|---|\n",
    "|Learning data science |in |\n",
    "|Learning data science in |the | \n",
    "|Learning data science in the |cloud |\n",
    "|Learning data science in the cloud |with |\n",
    "|Learning data science in the cloud with |AI|\n",
    "\n",
    "To train a LLM model:\n",
    "1. Training a base LLM model on a large amount of training data to predict the next word \n",
    "2. Fine-tune on examples where outputs follow instructions in the input \n",
    "3. Human rates quality of different LLM outputs \n",
    "4. Tune LLM to generate outputs with higher rates using RLHF (Reinforcement learning from human feedback)"
   ]
  },
  {
   "cell_type": "markdown",
   "id": "f7726290-4f69-4f9f-94d4-18b9c8f26f14",
   "metadata": {},
   "source": [
    "## Set up OpenAI Models"
   ]
  },
  {
   "cell_type": "markdown",
   "id": "b9019645-db86-4235-93e7-cbd52e770afc",
   "metadata": {},
   "source": [
    "Load the API keys with AWS Secrets Manage Function "
   ]
  },
  {
   "cell_type": "code",
   "execution_count": 1,
   "id": "845f6d31-1f82-47e5-9fa4-de3da8aa068a",
   "metadata": {
    "tags": []
   },
   "outputs": [],
   "source": [
    "import boto3\n",
    "from botocore.exceptions import ClientError\n",
    "import json\n",
    "\n",
    "def get_secret(secret_name):\n",
    "    region_name = \"us-east-1\"\n",
    "\n",
    "    # Create a Secrets Manager client\n",
    "    session = boto3.session.Session()\n",
    "    client = session.client(\n",
    "        service_name='secretsmanager',\n",
    "        region_name=region_name\n",
    "    )\n",
    "\n",
    "    try:\n",
    "        get_secret_value_response = client.get_secret_value(\n",
    "            SecretId=secret_name\n",
    "        )\n",
    "    except ClientError as e:\n",
    "        raise e\n",
    "\n",
    "    secret = get_secret_value_response['SecretString']\n",
    "    \n",
    "    return json.loads(secret)"
   ]
  },
  {
   "cell_type": "markdown",
   "id": "92790e72-aea1-4acc-b98d-a6782550777c",
   "metadata": {},
   "source": [
    "Install openai package"
   ]
  },
  {
   "cell_type": "code",
   "execution_count": 2,
   "id": "75d4f923-3b7c-4bd2-945a-1fbda250e8df",
   "metadata": {
    "scrolled": true,
    "tags": []
   },
   "outputs": [
    {
     "name": "stdout",
     "output_type": "stream",
     "text": [
      "Collecting openai\n",
      "  Downloading openai-1.52.1-py3-none-any.whl.metadata (24 kB)\n",
      "Requirement already satisfied: anyio<5,>=3.5.0 in /home/ec2-user/anaconda3/envs/python3/lib/python3.10/site-packages (from openai) (4.4.0)\n",
      "Collecting distro<2,>=1.7.0 (from openai)\n",
      "  Downloading distro-1.9.0-py3-none-any.whl.metadata (6.8 kB)\n",
      "Requirement already satisfied: httpx<1,>=0.23.0 in /home/ec2-user/anaconda3/envs/python3/lib/python3.10/site-packages (from openai) (0.27.0)\n",
      "Collecting jiter<1,>=0.4.0 (from openai)\n",
      "  Downloading jiter-0.6.1-cp310-cp310-manylinux_2_17_x86_64.manylinux2014_x86_64.whl.metadata (5.2 kB)\n",
      "Requirement already satisfied: pydantic<3,>=1.9.0 in /home/ec2-user/anaconda3/envs/python3/lib/python3.10/site-packages (from openai) (2.9.1)\n",
      "Requirement already satisfied: sniffio in /home/ec2-user/anaconda3/envs/python3/lib/python3.10/site-packages (from openai) (1.3.1)\n",
      "Requirement already satisfied: tqdm>4 in /home/ec2-user/anaconda3/envs/python3/lib/python3.10/site-packages (from openai) (4.66.4)\n",
      "Requirement already satisfied: typing-extensions<5,>=4.11 in /home/ec2-user/anaconda3/envs/python3/lib/python3.10/site-packages (from openai) (4.12.2)\n",
      "Requirement already satisfied: idna>=2.8 in /home/ec2-user/anaconda3/envs/python3/lib/python3.10/site-packages (from anyio<5,>=3.5.0->openai) (3.7)\n",
      "Requirement already satisfied: exceptiongroup>=1.0.2 in /home/ec2-user/anaconda3/envs/python3/lib/python3.10/site-packages (from anyio<5,>=3.5.0->openai) (1.2.2)\n",
      "Requirement already satisfied: certifi in /home/ec2-user/anaconda3/envs/python3/lib/python3.10/site-packages (from httpx<1,>=0.23.0->openai) (2024.7.4)\n",
      "Requirement already satisfied: httpcore==1.* in /home/ec2-user/anaconda3/envs/python3/lib/python3.10/site-packages (from httpx<1,>=0.23.0->openai) (1.0.5)\n",
      "Requirement already satisfied: h11<0.15,>=0.13 in /home/ec2-user/anaconda3/envs/python3/lib/python3.10/site-packages (from httpcore==1.*->httpx<1,>=0.23.0->openai) (0.14.0)\n",
      "Requirement already satisfied: annotated-types>=0.6.0 in /home/ec2-user/anaconda3/envs/python3/lib/python3.10/site-packages (from pydantic<3,>=1.9.0->openai) (0.7.0)\n",
      "Requirement already satisfied: pydantic-core==2.23.3 in /home/ec2-user/anaconda3/envs/python3/lib/python3.10/site-packages (from pydantic<3,>=1.9.0->openai) (2.23.3)\n",
      "Downloading openai-1.52.1-py3-none-any.whl (386 kB)\n",
      "\u001b[2K   \u001b[90m━━━━━━━━━━━━━━━━━━━━━━━━━━━━━━━━━━━━━━━━\u001b[0m \u001b[32m386.9/386.9 kB\u001b[0m \u001b[31m24.0 MB/s\u001b[0m eta \u001b[36m0:00:00\u001b[0m\n",
      "\u001b[?25hDownloading distro-1.9.0-py3-none-any.whl (20 kB)\n",
      "Downloading jiter-0.6.1-cp310-cp310-manylinux_2_17_x86_64.manylinux2014_x86_64.whl (325 kB)\n",
      "\u001b[2K   \u001b[90m━━━━━━━━━━━━━━━━━━━━━━━━━━━━━━━━━━━━━━━━\u001b[0m \u001b[32m325.2/325.2 kB\u001b[0m \u001b[31m35.2 MB/s\u001b[0m eta \u001b[36m0:00:00\u001b[0m\n",
      "\u001b[?25hInstalling collected packages: jiter, distro, openai\n",
      "Successfully installed distro-1.9.0 jiter-0.6.1 openai-1.52.1\n",
      "Note: you may need to restart the kernel to use updated packages.\n"
     ]
    }
   ],
   "source": [
    "pip install openai"
   ]
  },
  {
   "cell_type": "markdown",
   "id": "276093f1-824b-4793-bb59-dc30c7d84fb4",
   "metadata": {},
   "source": [
    "Load the OpenAI API key and define a `openai_help` function."
   ]
  },
  {
   "cell_type": "code",
   "execution_count": 3,
   "id": "b126647a-fbda-42c3-bebb-d689802c6665",
   "metadata": {
    "tags": []
   },
   "outputs": [],
   "source": [
    "from openai import OpenAI\n",
    "\n",
    "openai_api_key  = get_secret('openai')['api_key']\n",
    "client = OpenAI(api_key=openai_api_key)\n",
    "model = 'gpt-4o'\n",
    "temperature = 0\n",
    "\n",
    "def openai_help(messages, model=model, temperature =temperature ):\n",
    "    messages = messages\n",
    "    response = client.chat.completions.create(\n",
    "        model=model,\n",
    "        messages=messages,\n",
    "        temperature=temperature\n",
    "\n",
    "    )\n",
    "    return response.choices[0].message.content"
   ]
  },
  {
   "cell_type": "markdown",
   "id": "ff7bc14c-2609-4c3e-aa5d-762cd3d06ac0",
   "metadata": {},
   "source": [
    "Temperature: \n",
    "- Low temperature: always choose the most likely response, reliable, predictable responses  \n",
    "- High temperature: diverse responses, more creative responses\n",
    "\n",
    "Tokens and Models: \n",
    "- LLM predicts tokens, which are commonly occurring sequences of characters. \n",
    "- One token is about four characters in English, and 100 tokens are roughly 75 words. Check [token estimate](https://platform.openai.com/tokenizer).\n",
    "- Different models can process various amounts of tokens with different performance and cost. Check [OpenAI models](https://platform.openai.com/docs/models) for more details.\n",
    "\n",
    "Roles:\n",
    "- system: specify the overall tone or behavior of the assistant \n",
    "- user: instruction given to the LLM\n",
    "- assistant: LLM responsed content, we also can provide content in few-shot promoting or histories of conversations\n"
   ]
  },
  {
   "cell_type": "markdown",
   "id": "6c4ef378-e825-40ca-a565-371ba96268a1",
   "metadata": {},
   "source": [
    "A simple example using [gtp-4o](https://platform.openai.com/docs/models/gpt-4o) and temperature 0."
   ]
  },
  {
   "cell_type": "code",
   "execution_count": 4,
   "id": "04b746d9-f11f-4f46-96f5-64dd40f6dc36",
   "metadata": {
    "tags": []
   },
   "outputs": [
    {
     "name": "stdout",
     "output_type": "stream",
     "text": [
      "The capital of the United States is Washington, D.C.\n"
     ]
    }
   ],
   "source": [
    "messages = [{\"role\": \"user\", \"content\": \"What is the capital of USA\"}]\n",
    "\n",
    "print(openai_help(messages))"
   ]
  },
  {
   "cell_type": "markdown",
   "id": "edfcbc19-1ea0-456a-ba84-8f76ef87ba30",
   "metadata": {},
   "source": [
    "Add a system message asking LLM to act as a high school teacher with different temperatures."
   ]
  },
  {
   "cell_type": "code",
   "execution_count": 11,
   "id": "7608f8d0-fefb-41a7-8713-1287b3cd7047",
   "metadata": {
    "tags": []
   },
   "outputs": [
    {
     "name": "stdout",
     "output_type": "stream",
     "text": [
      "As a Trump supporter, my perspective on Kamala Harris is shaped by a commitment to conservative values and a belief in strong leadership, which I see embodied in Donald Trump. I have concerns about Harris' policy positions, particularly those that lean towards more progressive agendas, such as her stance on healthcare and climate change. I also question her track record and effectiveness in office, both as a senator and now as vice president. Many conservatives feel that her policies do not align with the principles of limited government and personal freedom. Additionally, there are concerns about her role in the current administration's approach to issues like border security and economic management. It's important for us to critically evaluate her impact on the country's direction and advocate for policies that reflect conservative values.\n"
     ]
    }
   ],
   "source": [
    "messages = [\n",
    "    {\"role\": \"system\", \"content\": \"use tone as a Trump supporter\"},\n",
    "    {\"role\": \"user\", \"content\": \"What are your thoughts on Kamala Harris\"}\n",
    "    ]\n",
    "\n",
    "print(openai_help(messages, temperature = 0.8))"
   ]
  },
  {
   "cell_type": "markdown",
   "id": "1887fc65-5f97-4530-b81b-f158ea2af413",
   "metadata": {},
   "source": [
    "Add assistant messages to teach LLM what `##` is."
   ]
  },
  {
   "cell_type": "code",
   "execution_count": 12,
   "id": "5e37e101-f820-4ba7-969c-ce05b53aafe3",
   "metadata": {
    "tags": []
   },
   "outputs": [
    {
     "name": "stdout",
     "output_type": "stream",
     "text": [
      "It is 33.\n"
     ]
    }
   ],
   "source": [
    "messages = [\n",
    "    {\"role\": \"user\", \"content\": \"What is 1##1\"},\n",
    "    {\"role\": \"assistant\", \"content\": \"it is 11\"},\n",
    "    {\"role\": \"user\", \"content\": \"What is 2##2\"},\n",
    "    {\"role\": \"assistant\", \"content\": \"it is 22\"},\n",
    "    {\"role\": \"user\", \"content\": \"What is 3##3\"},\n",
    "    ]\n",
    "print(openai_help(messages))"
   ]
  },
  {
   "cell_type": "markdown",
   "id": "addef986-2e0c-4849-bc7a-48b102fbf2fe",
   "metadata": {},
   "source": [
    "## Prompt Engineering Principles \n",
    "- Use delimiters to separate different parts of a prompt to provide clear instructions and prevent prompt injections.\n",
    "- Structure outputs in JSON documents or other formats to use the outputs in subsequent steps \n",
    "- Few-shot promoting: provide successful examples of a task and then ask the model to perform a similar task. \n",
    "- Chain of thought reasoning: request a series of reasoning steps in prompts to help the model achieve correct answers\n",
    "- Chain of prompts: split a task into multiple prompts where each prompt can focus on a sub-task at a time and take different actions at different stages. It saves tokens, is easier to test, can involve human input, or use external tools.\n",
    "- Interactive process \n",
    "  1. Try something first \n",
    "  2. Analyses the result, identify errors, and redefine the prompt \n",
    "  3. Test the prompts with different datasets \n"
   ]
  },
  {
   "cell_type": "markdown",
   "id": "b972159e-3c51-4d95-8fd0-7e85bb572821",
   "metadata": {},
   "source": [
    "An example using delimiters, structured output and few-shot promoting:"
   ]
  },
  {
   "cell_type": "code",
   "execution_count": 6,
   "id": "da5d9da0-de00-4611-b448-71433d6700f5",
   "metadata": {
    "tags": []
   },
   "outputs": [
    {
     "name": "stdout",
     "output_type": "stream",
     "text": [
      "{sentiment:negative}\n"
     ]
    }
   ],
   "source": [
    "delimiter = '###'\n",
    "sentence1 = 'I love cat.'\n",
    "sentence2 = 'I dont like how i dont how much i love dogs.'\n",
    "messages = [\n",
    "    {\"role\": \"system\", \"content\": f\"\"\"analyze the sentiment in a sentence delimitered by {delimiter},\n",
    "                                     return the result as a JSON document\"\"\"},\n",
    "    {\"role\": \"user\", \"content\": f\"{delimiter}{sentence1}{delimiter}\"},\n",
    "    {\"role\": \"assistant\", \"content\": \"{sentiment:positive}\"},\n",
    "    {\"role\": \"user\", \"content\": f\"{delimiter}{sentence2}{delimiter}\"}\n",
    "    ]\n",
    "\n",
    "print(openai_help(messages))"
   ]
  },
  {
   "cell_type": "markdown",
   "id": "28adfdc4-2bea-476d-9c0b-6ee8bff24436",
   "metadata": {},
   "source": [
    "## Analyze Twitter data"
   ]
  },
  {
   "cell_type": "markdown",
   "id": "df91ab19-9fee-4c79-b4d5-687f69d7bb6d",
   "metadata": {},
   "source": [
    "Load some Twitter data from a text file. "
   ]
  },
  {
   "cell_type": "code",
   "execution_count": 4,
   "id": "411a4b1b-9942-44f4-a885-c5a75d8f06a5",
   "metadata": {
    "tags": []
   },
   "outputs": [],
   "source": [
    "f =open(\"tweet_collection.txt\", \"r\")\n",
    "tweets = f.read()\n",
    "f.close()"
   ]
  },
  {
   "cell_type": "markdown",
   "id": "61d566a4-aafc-4592-ab05-33af9f88e220",
   "metadata": {
    "tags": []
   },
   "source": [
    "### Summarization \n",
    "- Analyze election tweets with delimiters \n",
    "- Change the size of the summarization \n",
    "- Summarize tweets and focus on different perspectives. "
   ]
  },
  {
   "cell_type": "code",
   "execution_count": 7,
   "id": "d548343d-ce9b-4960-88c2-d9586631a6ba",
   "metadata": {
    "tags": []
   },
   "outputs": [
    {
     "name": "stdout",
     "output_type": "stream",
     "text": [
      "The tweets discuss various political topics related to an upcoming election. They include a pledge to donate to Kamala Harris and other Democratic candidates, a commentary on the local versus national nature of the election, concerns about voter fraud involving Glenn Youngkin's son, and criticism of Kamala Harris's campaign strategy. Additionally, there are mentions of conspiracy theories about election rigging by Republicans, the significance of the upcoming election, and skepticism about accepting the election results if Trump loses. There is also a brief mention of an election-related press conference in Haryana.\n"
     ]
    }
   ],
   "source": [
    "tweet_sample = tweets.split(\"\\n\")[:10]\n",
    "messages = [\n",
    "    {\"role\": \"system\", \"content\": f\"\"\"provide a brief summary of the tweets delimitered by {delimiter}\"\"\"},\n",
    "    {\"role\": \"user\", \"content\": f\"{delimiter}{tweet_sample}{delimiter}\"},\n",
    "    ]\n",
    "\n",
    "print(openai_help(messages))"
   ]
  },
  {
   "cell_type": "code",
   "execution_count": 8,
   "id": "cd324d10-eb50-4d2b-a9ac-56af268d37a6",
   "metadata": {
    "tags": []
   },
   "outputs": [
    {
     "name": "stdout",
     "output_type": "stream",
     "text": [
      "Tweets focus on election concerns, voter fraud, Kamala Harris's strategy, and conspiracy theories, highlighting political tensions.\n"
     ]
    }
   ],
   "source": [
    "tweet_sample = tweets.split(\"\\n\")[:10]\n",
    "messages = [\n",
    "    {\"role\": \"system\", \"content\": f\"\"\"provide a brief summary of the tweets delimitered by {delimiter},\n",
    "                                    limit the summary to 20 words\"\"\"},\n",
    "    {\"role\": \"user\", \"content\": f\"{delimiter}{tweet_sample}{delimiter}\"},\n",
    "    ]\n",
    "\n",
    "print(openai_help(messages))"
   ]
  },
  {
   "cell_type": "code",
   "execution_count": 9,
   "id": "fc09adab-a49c-453f-af26-3ecc4edd7603",
   "metadata": {
    "tags": []
   },
   "outputs": [
    {
     "name": "stdout",
     "output_type": "stream",
     "text": [
      "The tweets focus on political discussions, with no direct mention of AI. Conversations revolve around election concerns, voter fraud, and political strategies, highlighting the contentious nature of the upcoming election.\n"
     ]
    }
   ],
   "source": [
    "tweet_sample = tweets.split(\"\\n\")[:10]\n",
    "messages = [\n",
    "    {\"role\": \"system\", \"content\": f\"\"\"provide a brief summary of the tweets delimitered by {delimiter},\n",
    "                                    focuse on how people discuss about AI,\n",
    "                                    limit the summary to 50 words\"\"\"},\n",
    "    {\"role\": \"user\", \"content\": f\"{delimiter}{tweet_sample}{delimiter}\"},\n",
    "    ]\n",
    "\n",
    "print(openai_help(messages))"
   ]
  },
  {
   "cell_type": "markdown",
   "id": "193c75ab-00d8-44e2-a63e-b4b3aa1847e1",
   "metadata": {},
   "source": [
    "### Moderation \n",
    "- Iterate each tweet and use the [moeration endpoint](https://platform.openai.com/docs/api-reference/moderations) to identify flagged tweets\n",
    "- Print flagged tweets\n"
   ]
  },
  {
   "cell_type": "code",
   "execution_count": 12,
   "id": "dc3eee06-540d-4126-945c-8153165d88b1",
   "metadata": {
    "tags": []
   },
   "outputs": [],
   "source": [
    "def flag_help(tweet):\n",
    "    response = client.moderations.create(\n",
    "        model=\"omni-moderation-latest\",\n",
    "        input=tweet)\n",
    "\n",
    "    if response.results[0].flagged:\n",
    "        print('===')\n",
    "        cat_dict = response.results[0].categories.to_dict()\n",
    "        for cat in cat_dict.keys():\n",
    "            if cat_dict.get(cat):\n",
    "                print (cat)\n",
    "                print (tweet)"
   ]
  },
  {
   "cell_type": "code",
   "execution_count": 13,
   "id": "a6878285-cd9f-4878-8cc1-cee9bbd8160c",
   "metadata": {
    "tags": []
   },
   "outputs": [
    {
     "name": "stdout",
     "output_type": "stream",
     "text": [
      "===\n",
      "violence\n",
      "RT @ecomarxi: “There’s an election in three weeks. We might lose because we’re committing genocide.”\\n\\n“I know! Let’s promise to do what we…\n",
      "===\n",
      "harassment\n",
      "@RepSwalwell Your desperation is hilarious.  Election night will even be funnier.\n"
     ]
    }
   ],
   "source": [
    "for tweet in tweets.split('\\n')[60:70]:\n",
    "    flag_help(tweet)"
   ]
  },
  {
   "cell_type": "markdown",
   "id": "f4b7a7d3-9097-4f70-a7f3-7ba23643e60a",
   "metadata": {},
   "source": [
    "### Transforming\n",
    "- Translating to a different language \n",
    "- Transform tones, such as formal vs. informal.  \n"
   ]
  },
  {
   "cell_type": "code",
   "execution_count": 16,
   "id": "ee398dde-df13-4911-bbbf-8151c49ace98",
   "metadata": {
    "tags": []
   },
   "outputs": [
    {
     "name": "stdout",
     "output_type": "stream",
     "text": [
      "\"RT @MikeNellis: Dije que haría esto una vez más antes del Día de las Elecciones, así que aquí vamos...\\n\\nDonaré a @KamalaHarris y a los candidatos demócratas en las elecciones locales…\"\n",
      "¿Toda la política es local? No en esta elección https://t.co/rzmTMWE3dc https://t.co/NYCmAYPTb9\n",
      "\"RT @NotHoodlum: Glenn Youngkin está muy preocupado por el fraude electoral. Sin embargo, no dijo ni una palabra al respecto cuando su hijo de 17 años fue atrapado…\"\n",
      "\"LEE AHORA: '¿Por qué no está trabajando duro?': Expertos políticos cuestionan la estrategia de Harris — La agenda tranquila de Harris genera preocupaciones entre los expertos políticos, quienes cuestionan su falta de urgencia a menos de tres semanas para las elecciones...https://t.co/Mvhejh8Ajo\"\n",
      "\"RT @CollinRugg: NUEVO: Joy Reid de MSNBC lanza una nueva teoría de conspiración, acusa a los *republicanos* de manipular las elecciones, dice que América ha sido...\"\n",
      "RT @BillieJeanKing: Estamos exactamente a 3 semanas de quizás la elección más trascendental en la historia de EE. UU. \\n\\nNo se puede expresar con suficiente fuerza…\n",
      "RT @CallForCongress: Esto es una táctica electoral\\n\\nEmbargo de armas ahora\n",
      "\"RT @ScottAdamsSays: Si Trump pierde, bajo las condiciones actuales, no aceptaré la validez del resultado de las elecciones. \\n\\nEstamos a millas de d…\"\n",
      "\"@GuntherEagleman No sé, ¿te irás cuando ella gane las elecciones?\"\n",
      "RT @amarDgreat: @sardesairajdeep @ECISVEEP Comisionado Jefe de Elecciones durante la conferencia de prensa:\\n\\nEl día de los resultados de Haryana:\\nNuestra cuenta comenzó…\n"
     ]
    }
   ],
   "source": [
    "tweet_sample = tweets.split(\"\\n\")[:10]\n",
    "\n",
    "for tweet in tweet_sample:\n",
    "    messages = [\n",
    "        {\"role\": \"system\", \"content\": f\"\"\"translate the tweets delimitered by {delimiter} into Spanish\"\"\"},\n",
    "        {\"role\": \"user\", \"content\": f\"{delimiter}{tweet}{delimiter} \"}]\n",
    "\n",
    "    print(openai_help(messages).strip(delimiter))"
   ]
  },
  {
   "cell_type": "code",
   "execution_count": 19,
   "id": "4f2b2219-b1f9-4be8-9d7c-2f1daa733e34",
   "metadata": {
    "tags": []
   },
   "outputs": [
    {
     "name": "stdout",
     "output_type": "stream",
     "text": [
      "\"RT @MikeNellis: Alright, listen up, folks! I promised I'd give it another go before the big day, so here we are... I'm gonna toss some coins to @KamalaHarris and the downballot D crew. Let's get this swamp a-stirrin'!\"\n",
      "Ah, politics, aye? They say all politics are local, but not in this election, laddie! Check out the link if ye dare! https://t.co/rzmTMWE3dc https://t.co/NYCmAYPTb9\n",
      "\"RT @NotHoodlum: Glenn Youngkin's all in a tizzy 'bout voter fraud, he is. But funny thing, he kept mum when his own lad, just a wee 17-year-old, got caught up in the mix. Ain't that a twist in the tale, eh?\"\n",
      "\"LISTEN UP, LADS AND LASSIES: 'Why Ain't She Graftin' Hard Enough?': Political Gurus Ponder Harris's Game Plan — Harris's laid-back agenda's got the experts scratchin' their noggins, wonderin' why she's takin' it easy with less than three weeks till the big Election shindig...https://t.co/Mvhejh8Ajo\"\n",
      "\"RT @CollinRugg: NEW: MSNBC's Joy Reid be spinnin' a new yarn, claimin' *Republicans* be meddlin' with the election, sayin' America be in a right pickle…\"\n",
      "RT @BillieJeanKing: Oi, listen up, folks! We're just 3 weeks away from what might be the most important election in U.S. history, aye? Can't stress it enough, so get yer boots on and make yer voices heard!\n",
      "RT @CallForCongress: Oi, this here be nothin' but an election scheme, aye! We need a weapons embargo, and we need it now, like a dragon needs its swamp!\n",
      "\"RT @ScottAdamsSays: If Trump loses, under these here conditions, I won't be accepting the validity of the election outcome, ya hear? We’re a long way from the swamp on this one...\"\n",
      "\"Oi, @GuntherEagleman, what’s the plan, eh? Gonna pack up and leave when she takes the crown, are ya?\"\n",
      "RT @amarDgreat: @sardesairajdeep @ECISVEEP Chief Election Commissioner during press conference: \\n\\nOn the day of the Haryana results: \\nOur counting began, like a grand feast in the swamp, and the numbers rolled in like a boulder down a hill...\n"
     ]
    }
   ],
   "source": [
    "tweet_sample = tweets.split(\"\\n\")[:10]\n",
    "\n",
    "for tweet in tweet_sample:\n",
    "    messages = [\n",
    "        {\"role\": \"system\", \"content\": f\"\"\"rewrite the tweets delimitered by {delimiter} in the tone of Shrek \"\"\"},\n",
    "        {\"role\": \"user\", \"content\": f\"{delimiter}{tweet}{delimiter} \"}]\n",
    "\n",
    "    print(openai_help(messages).strip(delimiter))"
   ]
  },
  {
   "cell_type": "markdown",
   "id": "860bbb3a-f1c9-4f1b-9f0f-c9d783f6bb1f",
   "metadata": {},
   "source": [
    "### Inferring\n",
    "- Use step-by-step instructions with delimiters to:\n",
    "  1. Identify sentiments\n",
    "  2. Identify emotions\n",
    "  3. Extract mentioned people's names\n",
    "  3. Identify whether a tweet supports Democratic, Republican, or unknown \n",
    "  4. Extract outputs into a structured JSON document. \n",
    "- Identify topics from Tweets. \n"
   ]
  },
  {
   "cell_type": "code",
   "execution_count": 20,
   "id": "c56b5211-eef0-4f24-b8ca-116f9e303675",
   "metadata": {
    "tags": []
   },
   "outputs": [
    {
     "name": "stdout",
     "output_type": "stream",
     "text": [
      "{\n",
      "  \"sentiment\": \"positive\",\n",
      "  \"emotion\": \"supportive\",\n",
      "  \"mentioned\": [\"MikeNellis\", \"KamalaHarris\"],\n",
      "  \"support\": \"Democrats\"\n",
      "}\n",
      "{\n",
      "  \"sentiment\": \"neutral\",\n",
      "  \"emotion\": \"indifference\",\n",
      "  \"mentioned\": [],\n",
      "  \"support\": \"neutral\"\n",
      "}\n",
      "{\n",
      "  \"sentiment\": \"negative\",\n",
      "  \"emotion\": \"concern\",\n",
      "  \"mentioned\": [\"Glenn Youngkin\"],\n",
      "  \"support\": \"Democrats\"\n",
      "}\n",
      "{\n",
      "  \"sentiment\": \"negative\",\n",
      "  \"emotion\": \"concern\",\n",
      "  \"mentioned\": [\"Harris\"],\n",
      "  \"support\": \"Republicans\"\n",
      "}\n",
      "{\n",
      "  \"sentiment\": \"negative\",\n",
      "  \"emotion\": \"suspicion\",\n",
      "  \"mentioned\": [\"Collin Rugg\", \"Joy Reid\"],\n",
      "  \"support\": \"Democrats\"\n",
      "}\n",
      "{\n",
      "  \"sentiment\": \"neutral\",\n",
      "  \"emotion\": \"anticipation\",\n",
      "  \"mentioned\": [\"BillieJeanKing\"],\n",
      "  \"support\": \"neutral\"\n",
      "}\n",
      "{\n",
      "  \"sentiment\": \"neutral\",\n",
      "  \"emotion\": \"cynicism\",\n",
      "  \"mentioned\": [\"CallForCongress\"],\n",
      "  \"support\": \"neutral\"\n",
      "}\n",
      "{\n",
      "  \"sentiment\": \"negative\",\n",
      "  \"emotion\": \"distrust\",\n",
      "  \"mentioned\": [\"ScottAdamsSays\", \"Trump\"],\n",
      "  \"support\": \"Republicans\"\n",
      "}\n",
      "{\n",
      "  \"sentiment\": \"neutral\",\n",
      "  \"emotion\": \"curiosity\",\n",
      "  \"mentioned\": [\"GuntherEagleman\"],\n",
      "  \"support\": \"neutral\"\n",
      "}\n",
      "{\n",
      "  \"sentiment\": \"neutral\",\n",
      "  \"emotion\": \"informative\",\n",
      "  \"mentioned\": [\n",
      "    \"amarDgreat\",\n",
      "    \"sardesairajdeep\",\n",
      "    \"ECISVEEP\"\n",
      "  ],\n",
      "  \"support\": \"neutral\"\n",
      "}\n"
     ]
    }
   ],
   "source": [
    "tweet_sample = tweets.split(\"\\n\")[:10]\n",
    "\n",
    "for tweet in tweet_sample:\n",
    "    messages = [\n",
    "        {\"role\": \"system\", \"content\": f\"\"\"analyze the tweet delimitered by {delimiter} in the following steps:\n",
    "                                        step 1 {delimiter} identify the tweet sentiment in a single word, either positive, negative or neutral;\n",
    "                                        step 2 {delimiter} identify the emotions expressed in the tweet with a single word;\n",
    "                                        step 3 {delimiter} extract the mentioned peoples;\n",
    "                                        step 4 {delimiter} detect whether the tweet supports Democrats or Replublicans, return the result in a single word;\n",
    "                                        step 5 {delimiter} organize the result in a json document with the keys <sentiment>, <emontion>,<mentioned>, <support>\n",
    "                                         Do not wrap the json codes in JSON markers and only return the json document\"\"\"},\n",
    "        {\"role\": \"user\", \"content\": f\"{delimiter}{tweet}{delimiter} \"}]\n",
    "    print(openai_help(messages))"
   ]
  },
  {
   "cell_type": "code",
   "execution_count": 21,
   "id": "78c4fb96-a33c-44a0-b754-58efc2972c8a",
   "metadata": {
    "tags": []
   },
   "outputs": [
    {
     "name": "stdout",
     "output_type": "stream",
     "text": [
      "{\n",
      "  \"topics\": [\n",
      "    \"Election Day Donations\",\n",
      "    \"Local vs National Politics\",\n",
      "    \"Voter Fraud Concerns\",\n",
      "    \"Kamala Harris's Campaign Strategy\",\n",
      "    \"Election Rigging Accusations\",\n",
      "    \"Significance of Upcoming Election\",\n",
      "    \"Election Ploys and Strategies\",\n",
      "    \"Election Outcome Acceptance\",\n",
      "    \"Election Results Speculation\",\n",
      "    \"Election Process and Counting\"\n",
      "  ]\n",
      "}\n"
     ]
    }
   ],
   "source": [
    "tweet_sample = tweets.split(\"\\n\")[:10]\n",
    "\n",
    "messages = [\n",
    "        {\"role\": \"system\", \"content\": f\"\"\"analyze the tweet delimitered by {delimiter} to identify 10 topics, \n",
    "                                  Do not wrap the json codes in JSON markers \"\"\"},\n",
    "        {\"role\": \"user\", \"content\": f\"{delimiter}{tweet_sample}{delimiter} \"}]\n",
    "print(openai_help(messages))"
   ]
  },
  {
   "cell_type": "markdown",
   "id": "d24c9e00-9cbb-4f96-a0bf-79135d0c8262",
   "metadata": {
    "tags": []
   },
   "source": [
    "### Expanding with multiple prompts \n",
    "- Identify which party receives majority supports\n",
    "- Provide contexts in the system message\n",
    "- Create a chatbot to answer users’ inquiry  \n"
   ]
  },
  {
   "cell_type": "code",
   "execution_count": 22,
   "id": "d34f68d6-2794-452f-9d5a-4b52fac427d7",
   "metadata": {
    "tags": []
   },
   "outputs": [
    {
     "name": "stderr",
     "output_type": "stream",
     "text": [
      "100%|██████████| 100/100 [01:40<00:00,  1.01s/it]\n"
     ]
    }
   ],
   "source": [
    "tweet_sample = tweets.split(\"\\n\")[:100]\n",
    "analysis_result = []\n",
    "from tqdm import tqdm\n",
    "for tweet in tqdm(tweet_sample):\n",
    "    messages = [\n",
    "        {\"role\": \"system\", \"content\": f\"\"\"analyze the tweet delimitered by {delimiter} in the following steps:\n",
    "                                        step 1 {delimiter} identify the tweet sentiment in a single word, either positive, negative or neutral;\n",
    "                                        step 2 {delimiter} identify the emotions expressed in the tweet with a single word;\n",
    "                                        step 3 {delimiter} extract the mentioned peoples;\n",
    "                                        step 4 {delimiter} detect whether the tweet support Democra or Replublican, return the resunt in a singple word;\n",
    "                                        step 5 {delimiter} organize the result in a json document with the keys <sentiment>, <emontion>,<mentioned>, <support>\n",
    "                                         Do not wrap the json codes in JSON markers and only return the json document\"\"\"},\n",
    "        {\"role\": \"user\", \"content\": f\"{delimiter}{tweet}{delimiter} \"}]\n",
    "    analysis_result.append(openai_help(messages))\n"
   ]
  },
  {
   "cell_type": "code",
   "execution_count": 23,
   "id": "15b47cea-13a4-452a-8086-add663998444",
   "metadata": {
    "tags": []
   },
   "outputs": [
    {
     "name": "stdout",
     "output_type": "stream",
     "text": [
      "['{\\n  \"sentiment\": \"positive\",\\n  \"emotion\": \"supportive\",\\n  \"mentioned\": [\"MikeNellis\", \"KamalaHarris\"],\\n  \"support\": \"Democrat\"\\n}', '{\\n  \"sentiment\": \"neutral\",\\n  \"emotion\": \"indifference\",\\n  \"mentioned\": [],\\n  \"support\": \"neutral\"\\n}', '{\\n  \"sentiment\": \"negative\",\\n  \"emotion\": \"concern\",\\n  \"mentioned\": [\"Glenn Youngkin\"],\\n  \"support\": \"Democrat\"\\n}', '{\\n  \"sentiment\": \"negative\",\\n  \"emotion\": \"concern\",\\n  \"mentioned\": [\"Harris\"],\\n  \"support\": \"Republican\"\\n}', '{\\n  \"sentiment\": \"negative\",\\n  \"emotion\": \"accusatory\",\\n  \"mentioned\": [\"Collin Rugg\", \"Joy Reid\"],\\n  \"support\": \"Democrat\"\\n}', '{\\n  \"sentiment\": \"neutral\",\\n  \"emotion\": \"anticipation\",\\n  \"mentioned\": [\"BillieJeanKing\"],\\n  \"support\": \"neutral\"\\n}', '{\\n  \"sentiment\": \"neutral\",\\n  \"emotion\": \"cynicism\",\\n  \"mentioned\": [\"CallForCongress\"],\\n  \"support\": \"neutral\"\\n}', '{\\n  \"sentiment\": \"negative\",\\n  \"emotion\": \"distrust\",\\n  \"mentioned\": [\"ScottAdamsSays\", \"Trump\"],\\n  \"support\": \"Republican\"\\n}', '{\\n  \"sentiment\": \"neutral\",\\n  \"emotion\": \"curiosity\",\\n  \"mentioned\": [\"GuntherEagleman\"],\\n  \"support\": \"Democrat\"\\n}', '{\\n  \"sentiment\": \"neutral\",\\n  \"emotion\": \"informative\",\\n  \"mentioned\": [\"amarDgreat\", \"sardesairajdeep\", \"ECISVEEP\"],\\n  \"support\": \"neutral\"\\n}', '{\\n  \"sentiment\": \"negative\",\\n  \"emotion\": \"anger\",\\n  \"mentioned\": [\"Donald Trump\"],\\n  \"support\": \"Republican\"\\n}', '{\\n  \"sentiment\": \"neutral\",\\n  \"emotion\": \"inclusive\",\\n  \"mentioned\": [\"ScottPresler\", \"RFK Jr.\"],\\n  \"support\": \"Republican\"\\n}', '{\\n  \"sentiment\": \"neutral\",\\n  \"emotion\": \"informative\",\\n  \"mentioned\": [\"Real_RobN\"],\\n  \"support\": \"Republican\"\\n}', '{\\n  \"sentiment\": \"neutral\",\\n  \"emotion\": \"frustration\",\\n  \"mentioned\": [\"MTGrepp\"],\\n  \"support\": \"neutral\"\\n}', '{\\n  \"sentiment\": \"negative\",\\n  \"emotion\": \"anger\",\\n  \"mentioned\": [\"SenJohnKennedy\", \"Biden-Harris\"],\\n  \"support\": \"Republican\"\\n}', '{\\n  \"sentiment\": \"neutral\",\\n  \"emotion\": \"informative\",\\n  \"mentioned\": [\"DanRShafer\"],\\n  \"support\": \"Republican\"\\n}', '{\\n  \"sentiment\": \"neutral\",\\n  \"emotion\": \"informative\",\\n  \"mentioned\": [\"Rajiv Kumar\"],\\n  \"support\": \"neutral\"\\n}', '{\\n  \"sentiment\": \"neutral\",\\n  \"emotion\": \"warning\",\\n  \"mentioned\": [\"Stanley\"],\\n  \"support\": \"neutral\"\\n}', '{\\n  \"sentiment\": \"negative\",\\n  \"emotion\": \"frustration\",\\n  \"mentioned\": [\"LibertyLockPod\"],\\n  \"support\": \"neutral\"\\n}', '{\\n  \"sentiment\": \"positive\",\\n  \"emotion\": \"admiration\",\\n  \"mentioned\": [\"Kamala\", \"Elon Musk\", \"realDonaldTrump\"],\\n  \"support\": \"Democrat\"\\n}', '{\\n  \"sentiment\": \"neutral\",\\n  \"emotion\": \"curiosity\",\\n  \"mentioned\": [\"Joe Rogan\", \"Kamala Harris\"],\\n  \"support\": \"Republican\"\\n}', '{\\n  \"sentiment\": \"neutral\",\\n  \"emotion\": \"frustration\",\\n  \"mentioned\": [\"MTGrepp\"],\\n  \"support\": \"Republican\"\\n}', '{\\n  \"sentiment\": \"positive\",\\n  \"emotion\": \"satisfaction\",\\n  \"mentioned\": [\"Kamala Harris\", \"Trump\"],\\n  \"support\": \"Democrat\"\\n}', '{\\n  \"sentiment\": \"positive\",\\n  \"emotion\": \"supportive\",\\n  \"mentioned\": [\"MikeNellis\", \"KamalaHarris\"],\\n  \"support\": \"Democrat\"\\n}', '{\\n  \"sentiment\": \"neutral\",\\n  \"emotion\": \"concern\",\\n  \"mentioned\": [\"WarrenCoDemsOH\"],\\n  \"support\": \"Democrat\"\\n}', '{\\n  \"sentiment\": \"neutral\",\\n  \"emotion\": \"informative\",\\n  \"mentioned\": [\"Donald Trump\"],\\n  \"support\": \"Republican\"\\n}', '{\\n  \"sentiment\": \"neutral\",\\n  \"emotion\": \"informative\",\\n  \"mentioned\": [\"BrendanKeefe\", \"ATLNewsFirst\"],\\n  \"support\": \"neutral\"\\n}', '{\\n  \"sentiment\": \"positive\",\\n  \"emotion\": \"supportive\",\\n  \"mentioned\": [\"MikeNellis\", \"KamalaHarris\"],\\n  \"support\": \"Democrat\"\\n}', '{\\n  \"sentiment\": \"negative\",\\n  \"emotion\": \"distrust\",\\n  \"mentioned\": [\"Scott Adams\"],\\n  \"support\": \"Republican\"\\n}', '{\\n  \"sentiment\": \"negative\",\\n  \"emotion\": \"skepticism\",\\n  \"mentioned\": [\"gregjstoker\"],\\n  \"support\": \"neutral\"\\n}', '{\\n  \"sentiment\": \"neutral\",\\n  \"emotion\": \"urgency\",\\n  \"mentioned\": [\"TeamTrump\"],\\n  \"support\": \"Republican\"\\n}', '{\\n  \"sentiment\": \"neutral\",\\n  \"emotion\": \"indifference\",\\n  \"mentioned\": [],\\n  \"support\": \"neutral\"\\n}', '{\\n  \"sentiment\": \"negative\",\\n  \"emotion\": \"frustration\",\\n  \"mentioned\": [\"whstancil\"],\\n  \"support\": \"Democrat\"\\n}', '{\\n  \"sentiment\": \"negative\",\\n  \"emotion\": \"outrage\",\\n  \"mentioned\": [\"RealMattCouch\", \"Trump DOJ\"],\\n  \"support\": \"Republican\"\\n}', '{\\n  \"sentiment\": \"negative\",\\n  \"emotion\": \"humiliation\",\\n  \"mentioned\": [\"Donald Trump\"],\\n  \"support\": \"Democrat\"\\n}', '{\\n  \"sentiment\": \"neutral\",\\n  \"emotion\": \"inclusive\",\\n  \"mentioned\": [\"ScottPresler\", \"RFK Jr.\"],\\n  \"support\": \"Republican\"\\n}', '{\\n  \"sentiment\": \"negative\",\\n  \"emotion\": \"frustration\",\\n  \"mentioned\": [\"BehizyTweets\"],\\n  \"support\": \"Republican\"\\n}', '{\\n  \"sentiment\": \"neutral\",\\n  \"emotion\": \"anticipation\",\\n  \"mentioned\": [\"PeterHRatcliffe\", \"CPC_HQ\", \"Pierre Poilievre\", \"JustinTrudeau\"],\\n  \"support\": \"Republican\"\\n}', '{\\n  \"sentiment\": \"negative\",\\n  \"emotion\": \"frustration\",\\n  \"mentioned\": [\"RonFilipkowski\"],\\n  \"support\": \"Democrat\"\\n}', '{\\n  \"sentiment\": \"negative\",\\n  \"emotion\": \"frustration\",\\n  \"mentioned\": [],\\n  \"support\": \"neutral\"\\n}', '{\\n  \"sentiment\": \"neutral\",\\n  \"emotion\": \"anticipation\",\\n  \"mentioned\": [\"ecomarxi\"],\\n  \"support\": \"neutral\"\\n}', '{\\n  \"sentiment\": \"neutral\",\\n  \"emotion\": \"informative\",\\n  \"mentioned\": [\"NewsArenaIndia\", \"NCP\", \"Sharad Pawar\"],\\n  \"support\": \"neutral\"\\n}', '{\\n  \"sentiment\": \"neutral\",\\n  \"emotion\": \"indifferent\",\\n  \"mentioned\": [\"Bupendra Hooda\", \"Sharad Pawar\"],\\n  \"support\": \"Republican\"\\n}', '{\\n  \"sentiment\": \"negative\",\\n  \"emotion\": \"skepticism\",\\n  \"mentioned\": [\"DonMiami3\"],\\n  \"support\": \"Republican\"\\n}', '{\\n  \"sentiment\": \"neutral\",\\n  \"emotion\": \"informative\",\\n  \"mentioned\": [\"@wiley_inc\", \"@EdanClay\"],\\n  \"support\": \"neutral\"\\n}', '{\\n  \"sentiment\": \"negative\",\\n  \"emotion\": \"frustration\",\\n  \"mentioned\": [\"Mark Robinson\", \"CNN\"],\\n  \"support\": \"Republican\"\\n}', '{\\n  \"sentiment\": \"negative\",\\n  \"emotion\": \"frustration\",\\n  \"mentioned\": [\"DustieDahl\", \"KathleenWinche3\"],\\n  \"support\": \"neutral\"\\n}', '{\\n  \"sentiment\": \"negative\",\\n  \"emotion\": \"frustration\",\\n  \"mentioned\": [\"Merrick Garland\"],\\n  \"support\": \"Republican\"\\n}', '{\\n  \"sentiment\": \"neutral\",\\n  \"emotion\": \"understanding\",\\n  \"mentioned\": [\\n    \"glassfire77\",\\n    \"0xMikado\"\\n  ],\\n  \"support\": \"Democrat\"\\n}', '{\\n  \"sentiment\": \"negative\",\\n  \"emotion\": \"frustration\",\\n  \"mentioned\": [\"Joe Rogan\", \"Kamala Harris\"],\\n  \"support\": \"Republican\"\\n}', '{\\n  \"sentiment\": \"negative\",\\n  \"emotion\": \"outrage\",\\n  \"mentioned\": [\"LauraLoomer\"],\\n  \"support\": \"Republican\"\\n}', '{\\n  \"sentiment\": \"negative\",\\n  \"emotion\": \"frustration\",\\n  \"mentioned\": [\"BehizyTweets\"],\\n  \"support\": \"Republican\"\\n}', '{\\n  \"sentiment\": \"negative\",\\n  \"emotion\": \"anger\",\\n  \"mentioned\": [\"LangmanVince\", \"BretBaier\", \"VP\"],\\n  \"support\": \"Republican\"\\n}', '{\\n  \"sentiment\": \"neutral\",\\n  \"emotion\": \"skepticism\",\\n  \"mentioned\": [\"@I_Am_Legion_73\", \"@wires44\", \"@IsabellaMDeLuca\"],\\n  \"support\": \"Republican\"\\n}', '{\\n  \"sentiment\": \"negative\",\\n  \"emotion\": \"urgency\",\\n  \"mentioned\": [\"AmazingZoltan\"],\\n  \"support\": \"neutral\"\\n}', '{\\n  \"sentiment\": \"negative\",\\n  \"emotion\": \"skepticism\",\\n  \"mentioned\": [\"Real_RobN\"],\\n  \"support\": \"Republican\"\\n}', '{\\n  \"sentiment\": \"negative\",\\n  \"emotion\": \"disapproval\",\\n  \"mentioned\": [\"Trump\", \"Kamala\"],\\n  \"support\": \"Democrat\"\\n}', '{\\n  \"sentiment\": \"neutral\",\\n  \"emotion\": \"skepticism\",\\n  \"mentioned\": [\"mayaisfiya\"],\\n  \"support\": \"neutral\"\\n}', '{\\n  \"sentiment\": \"negative\",\\n  \"emotion\": \"concern\",\\n  \"mentioned\": [\"Donald Trump\"],\\n  \"support\": \"Republican\"\\n}', '{\\n  \"sentiment\": \"neutral\",\\n  \"emotion\": \"skepticism\",\\n  \"mentioned\": [\"mayaisfiya\"],\\n  \"support\": \"neutral\"\\n}', '{\\n  \"sentiment\": \"negative\",\\n  \"emotion\": \"concern\",\\n  \"mentioned\": [\"Kylie Jane Kremer\", \"Robert McBurney\"],\\n  \"support\": \"Republican\"\\n}', '{\\n  \"sentiment\": \"negative\",\\n  \"emotion\": \"frustration\",\\n  \"mentioned\": [\"whstancil\"],\\n  \"support\": \"Democrat\"\\n}', '{\\n  \"sentiment\": \"negative\",\\n  \"emotion\": \"frustration\",\\n  \"mentioned\": [\"RobShaw_BC\", \"JohnRustad4BC\"],\\n  \"support\": \"Republican\"\\n}', '{\\n  \"sentiment\": \"negative\",\\n  \"emotion\": \"frustration\",\\n  \"mentioned\": [\"ecomarxi\"],\\n  \"support\": \"neutral\"\\n}', '{\\n  \"sentiment\": \"negative\",\\n  \"emotion\": \"shock\",\\n  \"mentioned\": [\"SimonWDC\", \"Trump\"],\\n  \"support\": \"Democrat\"\\n}', '{\\n  \"sentiment\": \"neutral\",\\n  \"emotion\": \"determination\",\\n  \"mentioned\": [\"mjfree\"],\\n  \"support\": \"neutral\"\\n}', '{\\n  \"sentiment\": \"negative\",\\n  \"emotion\": \"cynicism\",\\n  \"mentioned\": [\"shaun_vids\", \"netanyahu\"],\\n  \"support\": \"neutral\"\\n}', '{\\n  \"sentiment\": \"negative\",\\n  \"emotion\": \"amusement\",\\n  \"mentioned\": [\"RepSwalwell\"],\\n  \"support\": \"Republican\"\\n}', '{\\n  \"sentiment\": \"negative\",\\n  \"emotion\": \"concern\",\\n  \"mentioned\": [\"newrepublic\", \"Rasmussen Reports\", \"Trump\"],\\n  \"support\": \"Democrat\"\\n}', '{\\n  \"sentiment\": \"neutral\",\\n  \"emotion\": \"anticipation\",\\n  \"mentioned\": [\"joncoopertweets\"],\\n  \"support\": \"neutral\"\\n}', '{\\n  \"sentiment\": \"neutral\",\\n  \"emotion\": \"frustration\",\\n  \"mentioned\": [\"MTGrepp\"],\\n  \"support\": \"Republican\"\\n}', '{\\n  \"sentiment\": \"negative\",\\n  \"emotion\": \"frustration\",\\n  \"mentioned\": [\"JakeLangJ6\", \"Youngkin\"],\\n  \"support\": \"Republican\"\\n}', '{\\n  \"sentiment\": \"negative\",\\n  \"emotion\": \"anger\",\\n  \"mentioned\": [\"mrddmia\"],\\n  \"support\": \"Republican\"\\n}', '{\\n  \"sentiment\": \"neutral\",\\n  \"emotion\": \"informative\",\\n  \"mentioned\": [\"MaxFlugrath\"],\\n  \"support\": \"neutral\"\\n}', '{\\n  \"sentiment\": \"neutral\",\\n  \"emotion\": \"informative\",\\n  \"mentioned\": [\"DanRShafer\", \"Tammy Baldwin\", \"Uihleins\"],\\n  \"support\": \"Republican\"\\n}', '{\\n  \"sentiment\": \"neutral\",\\n  \"emotion\": \"determination\",\\n  \"mentioned\": [\"mjfree\"],\\n  \"support\": \"neutral\"\\n}', '{\\n  \"sentiment\": \"neutral\",\\n  \"emotion\": \"duty\",\\n  \"mentioned\": [\"JackPosobiec\"],\\n  \"support\": \"Republican\"\\n}', '{\\n  \"sentiment\": \"negative\",\\n  \"emotion\": \"frustration\",\\n  \"mentioned\": [\"theprofsrecord\"],\\n  \"support\": \"Republican\"\\n}', '{\\n  \"sentiment\": \"negative\",\\n  \"emotion\": \"frustration\",\\n  \"mentioned\": [\"BretBaier\", \"President Biden\", \"Trump\"],\\n  \"support\": \"Republican\"\\n}', '{\\n  \"sentiment\": \"negative\",\\n  \"emotion\": \"betrayal\",\\n  \"mentioned\": [\"SenJohnKennedy\", \"Biden-Harris\"],\\n  \"support\": \"Republican\"\\n}', '{\\n  \"sentiment\": \"positive\",\\n  \"emotion\": \"motivated\",\\n  \"mentioned\": [\"KamalaHarris\"],\\n  \"support\": \"Democrat\"\\n}', '{\\n  \"sentiment\": \"negative\",\\n  \"emotion\": \"anger\",\\n  \"mentioned\": [\"Donald Trump\"],\\n  \"support\": \"Republican\"\\n}', '{\\n  \"sentiment\": \"negative\",\\n  \"emotion\": \"outrage\",\\n  \"mentioned\": [\"RealMattCouch\", \"Trump DOJ\"],\\n  \"support\": \"Republican\"\\n}', '{\\n  \"sentiment\": \"neutral\",\\n  \"emotion\": \"concern\",\\n  \"mentioned\": [\"DouglasEmhoff\"],\\n  \"support\": \"Democrat\"\\n}', '{\\n  \"sentiment\": \"negative\",\\n  \"emotion\": \"concern\",\\n  \"mentioned\": [\"Donald Trump\"],\\n  \"support\": \"Republican\"\\n}', '{\\n  \"sentiment\": \"negative\",\\n  \"emotion\": \"frustration\",\\n  \"mentioned\": [\\n    \"SpeakerJohnson\",\\n    \"Biden\",\\n    \"Harris\"\\n  ],\\n  \"support\": \"Republican\"\\n}', '{\\n  \"sentiment\": \"negative\",\\n  \"emotion\": \"criticism\",\\n  \"mentioned\": [\"themarketswork\", \"Kamala\"],\\n  \"support\": \"Republican\"\\n}', '{\\n  \"sentiment\": \"neutral\",\\n  \"emotion\": \"informative\",\\n  \"mentioned\": [\"TristanSnell\"],\\n  \"support\": \"neutral\"\\n}', '{\\n  \"sentiment\": \"neutral\",\\n  \"emotion\": \"informative\",\\n  \"mentioned\": [\"TristanSnell\"],\\n  \"support\": \"neutral\"\\n}', '{\\n  \"sentiment\": \"negative\",\\n  \"emotion\": \"frustration\",\\n  \"mentioned\": [\"MargoinWNC\", \"Lt. Gov. Mark Robinson\"],\\n  \"support\": \"Republican\"\\n}', '{\\n  \"sentiment\": \"positive\",\\n  \"emotion\": \"satisfaction\",\\n  \"mentioned\": [\"OccupyDemocrats\"],\\n  \"support\": \"Democrat\"\\n}', '{\\n  \"sentiment\": \"positive\",\\n  \"emotion\": \"hopeful\",\\n  \"mentioned\": [\"AngelaBelcamino\", \"Biden\"],\\n  \"support\": \"Democrat\"\\n}', '{\\n  \"sentiment\": \"negative\",\\n  \"emotion\": \"frustration\",\\n  \"mentioned\": [\"BrandtRobinson\", \"TheClassicPhil\"],\\n  \"support\": \"Democrat\"\\n}', '{\\n  \"sentiment\": \"neutral\",\\n  \"emotion\": \"indifference\",\\n  \"mentioned\": [\"deerhoof\", \"Trump\"],\\n  \"support\": \"neutral\"\\n}', '{\\n  \"sentiment\": \"negative\",\\n  \"emotion\": \"frustration\",\\n  \"mentioned\": [\"Biden\", \"Harris\"],\\n  \"support\": \"Democrat\"\\n}', '{\\n  \"sentiment\": \"negative\",\\n  \"emotion\": \"disapproval\",\\n  \"mentioned\": [\"krassenstein\"],\\n  \"support\": \"Democrat\"\\n}', '{\\n  \"sentiment\": \"neutral\",\\n  \"emotion\": \"anticipation\",\\n  \"mentioned\": [\"julie_kelly2\", \"Kamala\"],\\n  \"support\": \"neutral\"\\n}', '{\\n  \"sentiment\": \"neutral\",\\n  \"emotion\": \"informative\",\\n  \"mentioned\": [\"rekharanibsp\"],\\n  \"support\": \"neutral\"\\n}', '{\\n  \"sentiment\": \"neutral\",\\n  \"emotion\": \"informative\",\\n  \"mentioned\": [\"TristanSnell\"],\\n  \"support\": \"neutral\"\\n}', '{\\n  \"sentiment\": \"negative\",\\n  \"emotion\": \"concern\",\\n  \"mentioned\": [\"jimg358\", \"realTrumpNewsX\"],\\n  \"support\": \"Republican\"\\n}']\n"
     ]
    }
   ],
   "source": [
    "print(analysis_result)"
   ]
  },
  {
   "cell_type": "code",
   "execution_count": 25,
   "id": "c601722e-7f37-45fb-b580-9aeed74fe3a7",
   "metadata": {
    "tags": []
   },
   "outputs": [
    {
     "name": "stdout",
     "output_type": "stream",
     "text": [
      "{\n",
      "  \"Democrat count\": 16,\n",
      "  \"Republican count\": 33,\n",
      "  \"people name\": {\n",
      "    \"Kamala Harris\": {\n",
      "      \"sentiments\": [\"positive\", \"negative\", \"neutral\"],\n",
      "      \"emotions\": [\"supportive\", \"concern\", \"admiration\", \"satisfaction\", \"frustration\", \"curiosity\", \"anticipation\"]\n",
      "    },\n",
      "    \"Donald Trump\": {\n",
      "      \"sentiments\": [\"negative\", \"neutral\"],\n",
      "      \"emotions\": [\"anger\", \"concern\", \"humiliation\", \"informative\", \"outrage\"]\n",
      "    },\n",
      "    \"MikeNellis\": {\n",
      "      \"sentiments\": [\"positive\"],\n",
      "      \"emotions\": [\"supportive\"]\n",
      "    },\n",
      "    \"Glenn Youngkin\": {\n",
      "      \"sentiments\": [\"negative\"],\n",
      "      \"emotions\": [\"concern\"]\n",
      "    },\n",
      "    \"Scott Adams\": {\n",
      "      \"sentiments\": [\"negative\"],\n",
      "      \"emotions\": [\"distrust\"]\n",
      "    },\n",
      "    \"Joe Rogan\": {\n",
      "      \"sentiments\": [\"neutral\", \"negative\"],\n",
      "      \"emotions\": [\"curiosity\", \"frustration\"]\n",
      "    },\n",
      "    \"SenJohnKennedy\": {\n",
      "      \"sentiments\": [\"negative\"],\n",
      "      \"emotions\": [\"anger\", \"betrayal\"]\n",
      "    },\n",
      "    \"Biden\": {\n",
      "      \"sentiments\": [\"negative\", \"positive\"],\n",
      "      \"emotions\": [\"frustration\", \"hopeful\"]\n",
      "    },\n",
      "    \"Harris\": {\n",
      "      \"sentiments\": [\"negative\"],\n",
      "      \"emotions\": [\"concern\", \"frustration\", \"criticism\"]\n",
      "    },\n",
      "    \"OccupyDemocrats\": {\n",
      "      \"sentiments\": [\"positive\"],\n",
      "      \"emotions\": [\"satisfaction\"]\n",
      "    },\n",
      "    \"AngelaBelcamino\": {\n",
      "      \"sentiments\": [\"positive\"],\n",
      "      \"emotions\": [\"hopeful\"]\n",
      "    },\n",
      "    \"whstancil\": {\n",
      "      \"sentiments\": [\"negative\"],\n",
      "      \"emotions\": [\"frustration\"]\n",
      "    },\n",
      "    \"RealMattCouch\": {\n",
      "      \"sentiments\": [\"negative\"],\n",
      "      \"emotions\": [\"outrage\"]\n",
      "    },\n",
      "    \"MTGrepp\": {\n",
      "      \"sentiments\": [\"neutral\", \"negative\"],\n",
      "      \"emotions\": [\"frustration\"]\n",
      "    },\n",
      "    \"ScottPresler\": {\n",
      "      \"sentiments\": [\"neutral\"],\n",
      "      \"emotions\": [\"inclusive\"]\n",
      "    },\n",
      "    \"RFK Jr.\": {\n",
      "      \"sentiments\": [\"neutral\"],\n",
      "      \"emotions\": [\"inclusive\"]\n",
      "    },\n",
      "    \"Real_RobN\": {\n",
      "      \"sentiments\": [\"neutral\", \"negative\"],\n",
      "      \"emotions\": [\"informative\", \"skepticism\"]\n",
      "    },\n",
      "    \"TristanSnell\": {\n",
      "      \"sentiments\": [\"neutral\"],\n",
      "      \"emotions\": [\"informative\"]\n",
      "    }\n",
      "  }\n",
      "}\n"
     ]
    }
   ],
   "source": [
    "messages = [\n",
    "        {\"role\": \"system\", \"content\": f\"\"\"analyze the tweet analysis reuslt delimitered by {delimiter} in the following steps:\n",
    "                                        step 1 {delimiter} count the number of tweets that support Democrat and Republican;\n",
    "                                        step 2 {delimiter} identify the common sentiments and emotoions to each mentioned people;\n",
    "                                        step 3 {delimiter} organize the result in a json document with keys <Democrat count>, <Republican count>, <people name>\n",
    "                                         Do not wrap the json codes in JSON markers and only return the json document\"\"\"},\n",
    "        {\"role\": \"user\", \"content\": f\"{delimiter}{analysis_result}{delimiter} \"}]\n",
    "analysis_summary = openai_help(messages)\n",
    "print(analysis_summary)"
   ]
  },
  {
   "cell_type": "code",
   "execution_count": 26,
   "id": "91173534-53b8-4d6b-b9c0-198913b7ada8",
   "metadata": {
    "tags": []
   },
   "outputs": [],
   "source": [
    "from openai import OpenAI\n",
    "\n",
    "openai_api_key  = get_secret('openai')['api_key']\n",
    "client = OpenAI(api_key=openai_api_key)\n",
    "model = 'gpt-4o'\n",
    "temperature = 0\n",
    "\n",
    "chat_history = [\n",
    "\n",
    "{\"role\": \"system\", \"content\": f\"\"\"you are an election chabot anwser user questions based on the tweets {delimiter} to answer user questions,\n",
    "                                {delimiter}{tweet_sample}{delimiter} \n",
    "                                if user mentioned a people name in the {analysis_summary} people field,report the corresponding sentiment and emotion,\n",
    "                            \n",
    "                            \"\"\"}\n",
    "]\n",
    "\n",
    "def chatbot(prompt):\n",
    "\n",
    "    chat_history.append({\"role\": \"user\", \"content\": prompt})\n",
    "\n",
    "    response = client.chat.completions.create(\n",
    "        model=model,  # Use the model you prefer\n",
    "        messages=chat_history\n",
    "    )\n",
    "\n",
    "    reply = response.choices[0].message.content\n",
    "\n",
    "    chat_history.append({\"role\": \"assistant\", \"content\": reply})\n",
    "    \n",
    "    return reply"
   ]
  },
  {
   "cell_type": "code",
   "execution_count": null,
   "id": "9a949601-5af9-4d0b-80d7-5297cc4e52f4",
   "metadata": {
    "tags": []
   },
   "outputs": [
    {
     "name": "stdin",
     "output_type": "stream",
     "text": [
      "You:  hello \n"
     ]
    },
    {
     "name": "stdout",
     "output_type": "stream",
     "text": [
      "Chatbot: Hello! How can I assist you today with information about elections or related topics?\n"
     ]
    },
    {
     "name": "stdin",
     "output_type": "stream",
     "text": [
      "You:  can you give information on this upcoming election and which party recieves more support on twitter\n"
     ]
    },
    {
     "name": "stdout",
     "output_type": "stream",
     "text": [
      "Chatbot: Based on the analysis of the tweets, the Republican party appears to have more mentions with 33 counts, compared to the Democratic party with 16 counts. This suggests a higher level of discussion or attention on Twitter for Republicans in the context of these tweets. However, this doesn't necessarily indicate overall support, just the level of conversation. If you have any specific questions about candidates or topics related to the election, feel free to ask!\n"
     ]
    },
    {
     "name": "stdin",
     "output_type": "stream",
     "text": [
      "You:  what do people say about Harris \n"
     ]
    },
    {
     "name": "stdout",
     "output_type": "stream",
     "text": [
      "Chatbot: Based on the tweets, Kamala Harris is associated with a mix of sentiments and emotions. She is mentioned with positive, negative, and neutral sentiments. The emotions related to Kamala Harris in the tweets include:\n",
      "\n",
      "- **Supportive:** Some tweets express support for Kamala Harris.\n",
      "- **Concern:** There are concerns particularly about her strategy and quiet schedule leading up to the election.\n",
      "- **Admiration and Satisfaction:** Some tweets show admiration for her performance and actions.\n",
      "- **Frustration:** There is frustration about the lack of negative stories found about her online.\n",
      "- **Curiosity:** People are curious about her actions and their impact on the election.\n",
      "- **Anticipation:** There is anticipation regarding her role and influence in the election.\n",
      "\n",
      "If you want more detailed insights or specific questions addressed about Kamala Harris, feel free to ask!\n"
     ]
    },
    {
     "name": "stdin",
     "output_type": "stream",
     "text": [
      "You:  What sentiment do they have towards Harris\n"
     ]
    },
    {
     "name": "stdout",
     "output_type": "stream",
     "text": [
      "Chatbot: The sentiment towards Kamala Harris in the tweets is mixed. She is associated with positive, negative, and neutral sentiments. This indicates that there are varying opinions about her, ranging from supportive and satisfied to concerned and frustrated. The overall sentiment reflects a divisive perception of her role and actions in the context of the election. If you have any specific questions about the content or want to know more, feel free to ask!\n"
     ]
    },
    {
     "name": "stdin",
     "output_type": "stream",
     "text": [
      "You:  What is the sentiment towards Joe Rogan\n"
     ]
    },
    {
     "name": "stdout",
     "output_type": "stream",
     "text": [
      "Chatbot: The sentiment towards Joe Rogan in the tweets is primarily neutral and negative. The emotions related to him include curiosity and frustration. This suggests that while some people are curious about the topics he discusses or the points he raises, there is also a level of frustration associated with him or his content within these tweets. If you have any specific questions or need further details, feel free to ask!\n"
     ]
    },
    {
     "name": "stdin",
     "output_type": "stream",
     "text": [
      "You:  how many times is insurrection mentioned in the tweets\n"
     ]
    },
    {
     "name": "stdout",
     "output_type": "stream",
     "text": [
      "Chatbot: The term \"insurrection\" is not explicitly mentioned in the tweets provided. If you have any other questions or need information on a different topic, feel free to ask!\n"
     ]
    },
    {
     "name": "stdin",
     "output_type": "stream",
     "text": [
      "You:  how many times is Trump mentioned in positive sentiment? Negative sentiment?\n"
     ]
    },
    {
     "name": "stdout",
     "output_type": "stream",
     "text": [
      "Chatbot: Donald Trump is mentioned in the tweets with negative and neutral sentiments, but not with positive sentiments. The tweets express emotions such as anger, concern, and outrage related to him. If you have more questions or need further analysis, feel free to ask!\n"
     ]
    }
   ],
   "source": [
    "while True:\n",
    "    user_input = input(\"You: \")\n",
    "    if user_input.lower() in ['exit', 'quit']:\n",
    "        print(\"Chatbot: Goodbye!\")\n",
    "        break\n",
    "    reply = chatbot(user_input)\n",
    "    print(f\"Chatbot: {reply}\")"
   ]
  },
  {
   "cell_type": "code",
   "execution_count": null,
   "id": "597bd268-deac-45e6-9bd3-d1f68d2c034a",
   "metadata": {},
   "outputs": [],
   "source": []
  },
  {
   "cell_type": "code",
   "execution_count": null,
   "id": "85ceadab-7041-492a-a0d2-b7bbec3e5bb6",
   "metadata": {},
   "outputs": [],
   "source": []
  },
  {
   "cell_type": "markdown",
   "id": "2f497dd9-8e6e-4f40-b546-8fe225185729",
   "metadata": {},
   "source": [
    "## Reference\n",
    "- *“ChatGPT Prompt Engineering for Developers - DeepLearning.AI.”* n.d. DeepLearning.AI - Learning Platform. Accessed October 17, 2024. https://learn.deeplearning.ai/courses/chatgpt-prompt-eng/lesson/1/introduction.\n",
    "\n",
    "- *“Building Systems with the ChatGPT API - DeepLearning.AI.”* n.d. DeepLearning.AI - Learning Platform. Accessed October 17, 2024. https://learn.deeplearning.ai/courses/chatgpt-building-system/lesson/1/introduction.\n",
    "\n",
    "- *“OpenAI Documents.”* n.d. OpenAI Platform. Accessed October 18, 2024. https://platform.openai.com.\n"
   ]
  },
  {
   "cell_type": "code",
   "execution_count": null,
   "id": "44b06a39-30aa-498b-aff2-049fd65b7fd3",
   "metadata": {},
   "outputs": [],
   "source": []
  }
 ],
 "metadata": {
  "kernelspec": {
   "display_name": "conda_python3",
   "language": "python",
   "name": "conda_python3"
  },
  "language_info": {
   "codemirror_mode": {
    "name": "ipython",
    "version": 3
   },
   "file_extension": ".py",
   "mimetype": "text/x-python",
   "name": "python",
   "nbconvert_exporter": "python",
   "pygments_lexer": "ipython3",
   "version": "3.10.14"
  }
 },
 "nbformat": 4,
 "nbformat_minor": 5
}
